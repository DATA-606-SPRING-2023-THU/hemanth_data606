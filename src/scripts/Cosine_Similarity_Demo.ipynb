{
 "cells": [
  {
   "cell_type": "code",
   "execution_count": 1,
   "id": "4f3e58ff",
   "metadata": {},
   "outputs": [],
   "source": [
    "from sklearn.feature_extraction.text import CountVectorizer\n",
    "from sklearn.metrics.pairwise import cosine_similarity"
   ]
  },
  {
   "cell_type": "code",
   "execution_count": 2,
   "id": "50d0fa6a",
   "metadata": {},
   "outputs": [
    {
     "name": "stdout",
     "output_type": "stream",
     "text": [
      "Cosine similarity score: 1.0\n"
     ]
    }
   ],
   "source": [
    "string1 = \"The quick brown fox jumps over the lazy dog\"\n",
    "string2 = \"Brown jumps fox over the lazy dog the quick\"\n",
    "vectorizer = CountVectorizer().fit_transform([string1, string2])\n",
    "cosine_sim = cosine_similarity(vectorizer[0], vectorizer[1])\n",
    "print(\"Cosine similarity score:\", cosine_sim[0][0])"
   ]
  },
  {
   "cell_type": "code",
   "execution_count": 5,
   "id": "ee570cf9",
   "metadata": {},
   "outputs": [
    {
     "name": "stdout",
     "output_type": "stream",
     "text": [
      "Cosine similarity score: 0.0\n"
     ]
    }
   ],
   "source": [
    "string1 = \"International space station goes around earth\"\n",
    "string2 = \"The quick brown fox jumps over the lazy dog\"\n",
    "vectorizer = CountVectorizer().fit_transform([string1, string2])\n",
    "cosine_sim = cosine_similarity(vectorizer[0], vectorizer[1])\n",
    "print(\"Cosine similarity score:\", cosine_sim[0][0])"
   ]
  },
  {
   "cell_type": "code",
   "execution_count": 6,
   "id": "499f4a2e",
   "metadata": {},
   "outputs": [
    {
     "name": "stdout",
     "output_type": "stream",
     "text": [
      "Cosine similarity score: 0.6837634587578276\n"
     ]
    }
   ],
   "source": [
    "string1 = \"The quick brown fox jumps over the lazy dog\"\n",
    "string2 = \"A quick brown dog jumps on the log\"\n",
    "vectorizer = CountVectorizer().fit_transform([string1, string2])\n",
    "cosine_sim = cosine_similarity(vectorizer[0], vectorizer[1])\n",
    "print(\"Cosine similarity score:\", cosine_sim[0][0])"
   ]
  },
  {
   "cell_type": "code",
   "execution_count": null,
   "id": "fa5225c9",
   "metadata": {},
   "outputs": [],
   "source": []
  }
 ],
 "metadata": {
  "kernelspec": {
   "display_name": "Python 3 (ipykernel)",
   "language": "python",
   "name": "python3"
  },
  "language_info": {
   "codemirror_mode": {
    "name": "ipython",
    "version": 3
   },
   "file_extension": ".py",
   "mimetype": "text/x-python",
   "name": "python",
   "nbconvert_exporter": "python",
   "pygments_lexer": "ipython3",
   "version": "3.9.13"
  }
 },
 "nbformat": 4,
 "nbformat_minor": 5
}
