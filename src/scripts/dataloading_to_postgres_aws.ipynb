{
 "cells": [
  {
   "cell_type": "code",
   "execution_count": 1,
   "id": "d2960d3b",
   "metadata": {},
   "outputs": [],
   "source": [
    "import csv\n",
    "import psycopg2"
   ]
  },
  {
   "cell_type": "code",
   "execution_count": null,
   "id": "61638ab2",
   "metadata": {},
   "outputs": [],
   "source": [
    "# Connecting to the PostgreSQL database\n",
    "conn = psycopg2.connect(database=\"movie_recommendation_db\", user=\"hemanth\", password=\"hemanth123\", host=\"my-db.c8684qazpg5m.us-east-1.rds.amazonaws.com\", port=\"5432\")\n",
    "cur = conn.cursor()\n",
    "\n",
    "# Open the CSV file\n",
    "with open(r'D:\\Class\\Data-606\\Movie-Recommendation-System\\Data\\ml-latest-small\\movies.csv', 'r',  encoding=\"utf-8\") as csv_file:\n",
    "    # Create a CSV reader object\n",
    "    csv_reader = csv.reader(csv_file)\n",
    "\n",
    "    # Skip the header row\n",
    "    next(csv_reader)\n",
    "\n",
    "    # Loop through each row in the CSV file\n",
    "    for row in csv_reader:\n",
    "        # Extract the values from the row\n",
    "        col1 = row[0]\n",
    "        col2 = row[1]\n",
    "        col3 = row[2]\n",
    "\n",
    "        # Inserting the values into the database\n",
    "        cur.execute(\"INSERT INTO movies(movieid, title, genres) VALUES (%s, %s, %s)\", (col1, col2, col3))\n",
    "\n",
    "# Committing the changes to the database\n",
    "conn.commit()\n",
    "\n",
    "# Close the database connection\n",
    "conn.close()\n"
   ]
  },
  {
   "cell_type": "code",
   "execution_count": null,
   "id": "b89ac12e",
   "metadata": {},
   "outputs": [],
   "source": [
    "# Connect to the PostgreSQL database\n",
    "conn = psycopg2.connect(database=\"movie_recommendation_db\", user=\"hemanth\", password=\"hemanth123\", host=\"my-db.c8684qazpg5m.us-east-1.rds.amazonaws.com\", port=\"5432\")\n",
    "cur = conn.cursor()\n",
    "\n",
    "# Open the CSV file\n",
    "with open(r'D:\\Class\\Data-606\\Movie-Recommendation-System\\Data\\ml-latest-small\\links2.csv', 'r',  encoding=\"utf-8\") as csv_file:\n",
    "    # Create a CSV reader object\n",
    "    csv_reader = csv.reader(csv_file)\n",
    "\n",
    "    # Skip the header row\n",
    "    next(csv_reader)\n",
    "\n",
    "    # Loop through each row in the CSV file\n",
    "    for row in csv_reader:\n",
    "        # Extract the values from the row\n",
    "        col1 = row[0]\n",
    "        col2 = row[1]\n",
    "        col3 = row[2]\n",
    "        col4 = row[3]\n",
    "\n",
    "        # Insert the values into the database\n",
    "        cur.execute(\"INSERT INTO links(movieid, imdbid, tmdbid, posterpath) VALUES (%s, %s, %s, %s)\", (col1, col2, col3, col4))\n",
    "\n",
    "# Commit the changes to the database\n",
    "conn.commit()\n",
    "\n",
    "# Close the database connection\n",
    "conn.close()"
   ]
  },
  {
   "cell_type": "code",
   "execution_count": 3,
   "id": "22496a3a",
   "metadata": {},
   "outputs": [],
   "source": [
    "from tqdm import tqdm"
   ]
  },
  {
   "cell_type": "code",
   "execution_count": null,
   "id": "df9fadb9",
   "metadata": {},
   "outputs": [],
   "source": [
    "# Connect to the PostgreSQL database\n",
    "conn = psycopg2.connect(database=\"movie_recommendation_db\", user=\"hemanth\", password=\"hemanth123\", host=\"my-db.c8684qazpg5m.us-east-1.rds.amazonaws.com\", port=\"5432\")\n",
    "cur = conn.cursor()\n",
    "\n",
    "# Open the CSV file\n",
    "with open(r'D:\\Class\\Data-606\\Movie-Recommendation-System\\Data\\ml-latest-small\\ratings_2.csv', 'r',  encoding=\"utf-8\") as csv_file:\n",
    "    # Create a CSV reader object\n",
    "    csv_reader = csv.reader(csv_file)\n",
    "\n",
    "    # Skip the header row\n",
    "    next(csv_reader)\n",
    "\n",
    "    # Loop through each row in the CSV file\n",
    "    for row in tqdm(csv_reader):\n",
    "        # Extract the values from the row\n",
    "        col1 = row[0]\n",
    "        col2 = row[1]\n",
    "        col3 = row[2]\n",
    "        col4 = row[3]\n",
    "\n",
    "        # Insert the values into the database\n",
    "        cur.execute(\"INSERT INTO ratings(userid, movieid, rating, ratingtime) VALUES (%s, %s, %s, %s)\", (col1, col2, col3, col4))\n",
    "\n",
    "# Commit the changes to the database\n",
    "conn.commit()\n",
    "\n",
    "# Close the database connection\n",
    "conn.close()"
   ]
  },
  {
   "cell_type": "code",
   "execution_count": 4,
   "id": "f5177fac",
   "metadata": {},
   "outputs": [
    {
     "name": "stderr",
     "output_type": "stream",
     "text": [
      "3683it [02:19, 26.36it/s]\n"
     ]
    }
   ],
   "source": [
    "conn = psycopg2.connect(database=\"movie_recommendation_db\", user=\"hemanth\", password=\"hemanth123\", host=\"my-db.c8684qazpg5m.us-east-1.rds.amazonaws.com\", port=\"5432\")\n",
    "cur = conn.cursor()\n",
    "with open(r'D:\\Class\\Data-606\\Movie-Recommendation-System\\Data\\ml-latest-small\\tags.csv', 'r', encoding=\"utf-8\") as csv_file:\n",
    "    csv_reader = csv.reader(csv_file)\n",
    "    next(csv_reader)\n",
    "    for row in tqdm(csv_reader):\n",
    "        col1 = row[0]\n",
    "        col2 = row[1]\n",
    "        col3 = row[2]\n",
    "        cur.execute('insert into tags(userid, movieid, tag) values (%s, %s, %s)', (col1, col2, col3))\n",
    "conn.commit()\n",
    "conn.close()"
   ]
  },
  {
   "cell_type": "code",
   "execution_count": null,
   "id": "7e548466",
   "metadata": {},
   "outputs": [],
   "source": []
  }
 ],
 "metadata": {
  "kernelspec": {
   "display_name": "Python 3 (ipykernel)",
   "language": "python",
   "name": "python3"
  },
  "language_info": {
   "codemirror_mode": {
    "name": "ipython",
    "version": 3
   },
   "file_extension": ".py",
   "mimetype": "text/x-python",
   "name": "python",
   "nbconvert_exporter": "python",
   "pygments_lexer": "ipython3",
   "version": "3.9.13"
  }
 },
 "nbformat": 4,
 "nbformat_minor": 5
}
