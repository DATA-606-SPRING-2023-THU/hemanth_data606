{
 "cells": [
  {
   "cell_type": "markdown",
   "id": "9aace97a",
   "metadata": {},
   "source": [
    "<h3>Consine Similarity</h3>"
   ]
  },
  {
   "cell_type": "markdown",
   "id": "24d7cc17",
   "metadata": {},
   "source": [
    "<h4>Imports</h4>"
   ]
  },
  {
   "cell_type": "code",
   "execution_count": 1,
   "id": "3d085b8c",
   "metadata": {},
   "outputs": [],
   "source": [
    "import psycopg2\n",
    "from sklearn.feature_extraction.text import TfidfVectorizer\n",
    "from sklearn.metrics.pairwise import linear_kernel\n",
    "from psycopg2.extensions import register_adapter, AsIs\n",
    "import numpy as np\n",
    "import json"
   ]
  },
  {
   "cell_type": "code",
   "execution_count": null,
   "id": "c5934136",
   "metadata": {},
   "outputs": [],
   "source": [
    "conn = psycopg2.connect(\n",
    "    host=\"my-db.c8684qazpg5m.us-east-1.rds.amazonaws.com\",\n",
    "    database=\"movie_recommendation_db\",\n",
    "    user=\"hemanth\",\n",
    "    password=\"hemanth123\",\n",
    "    port=5432\n",
    ")\n",
    "cur = conn.cursor()\n",
    "\n",
    "# creating a tf-idf vectorizer for the movie titles and tags\n",
    "tfidf = TfidfVectorizer(stop_words='english')\n",
    "# getting movie titles and tags from the database\n",
    "cur.execute(\"SELECT movieid, genres FROM movies\")\n",
    "movies = cur.fetchall()\n",
    "# creating a list of movie titles and tags concatenated with space\n",
    "movies_list = [movie[1] for movie in movies]\n",
    "movies_list = [\" \".join(s.split(\"|\")) for s in movies_list]\n",
    "# fit and transform the tfidf vectorizer on the movies list\n",
    "tfidf_matrix = tfidf.fit_transform(movies_list)"
   ]
  },
  {
   "cell_type": "code",
   "execution_count": null,
   "id": "8e74e962",
   "metadata": {},
   "outputs": [],
   "source": [
    "tfidf_matrix"
   ]
  },
  {
   "cell_type": "code",
   "execution_count": null,
   "id": "9d1ed692",
   "metadata": {},
   "outputs": [],
   "source": [
    "# computing cosine similarity matrix for the movies and store it in a table\n",
    "cosine_sim = linear_kernel(tfidf_matrix, tfidf_matrix)\n",
    "# create a table for cosine similarity matrix if not exists\n",
    "# cur.execute(\"CREATE TABLE IF NOT EXISTS cosine_sim (movie_id INTEGER, sim_scores REAL[])\")\n",
    "conn.commit()\n",
    "\n",
    "def adapt_numpy_array(numpy_array):\n",
    "    return AsIs(tuple(numpy_array))"
   ]
  },
  {
   "cell_type": "code",
   "execution_count": null,
   "id": "cee0bcf8",
   "metadata": {},
   "outputs": [],
   "source": [
    "# inserting records into table\n",
    "register_adapter(np.ndarray, adapt_numpy_array)\n",
    "for i in range(len(movies)):\n",
    "    cur.execute(\"INSERT INTO cosine_sim (movie_id, sim_scores) VALUES (%s, %s)\", (movies[i][0], json.dumps(cosine_sim[i].tolist())))\n",
    "conn.commit()\n",
    "cur.close()"
   ]
  },
  {
   "cell_type": "code",
   "execution_count": null,
   "id": "0196a35f",
   "metadata": {},
   "outputs": [],
   "source": [
    "movies"
   ]
  },
  {
   "cell_type": "code",
   "execution_count": 2,
   "id": "8e9e3054",
   "metadata": {},
   "outputs": [],
   "source": [
    "conn = psycopg2.connect(\n",
    "    host=\"my-db.c8684qazpg5m.us-east-1.rds.amazonaws.com\",\n",
    "    database=\"movie_recommendation_db\",\n",
    "    user=\"hemanth\",\n",
    "    password=\"hemanth123\",\n",
    "    port=5432\n",
    ")\n",
    "\n",
    "# creating a function to get the movie id from the movie title\n",
    "def get_id_from_title(movie_title):\n",
    "    with conn.cursor() as cur:\n",
    "        # execute a SQL query \n",
    "        cur.execute(\"SELECT movieid FROM movies WHERE title ='\"+movie_title+\"'\")\n",
    "        # return the result\n",
    "        return cur.fetchone()[0]\n",
    "    "
   ]
  },
  {
   "cell_type": "code",
   "execution_count": 3,
   "id": "96073579",
   "metadata": {},
   "outputs": [
    {
     "data": {
      "text/plain": [
       "1"
      ]
     },
     "execution_count": 3,
     "metadata": {},
     "output_type": "execute_result"
    }
   ],
   "source": [
    "get_id_from_title('Toy Story (1995)')"
   ]
  },
  {
   "cell_type": "code",
   "execution_count": null,
   "id": "2a7b42ef",
   "metadata": {},
   "outputs": [],
   "source": []
  }
 ],
 "metadata": {
  "kernelspec": {
   "display_name": "Python 3 (ipykernel)",
   "language": "python",
   "name": "python3"
  },
  "language_info": {
   "codemirror_mode": {
    "name": "ipython",
    "version": 3
   },
   "file_extension": ".py",
   "mimetype": "text/x-python",
   "name": "python",
   "nbconvert_exporter": "python",
   "pygments_lexer": "ipython3",
   "version": "3.9.13"
  }
 },
 "nbformat": 4,
 "nbformat_minor": 5
}
